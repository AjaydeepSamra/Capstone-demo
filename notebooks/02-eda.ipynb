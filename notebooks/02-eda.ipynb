{
 "cells": [
  {
   "cell_type": "markdown",
   "metadata": {},
   "source": [
    "# EDA"
   ]
  },
  {
   "cell_type": "code",
   "execution_count": 21,
   "metadata": {},
   "outputs": [],
   "source": [
    "import pandas as pd\n",
    "import numpy as np\n",
    "import matplotlib.pyplot as plt\n",
    "import seaborn as sns\n",
    "import statsmodels.api as sm\n",
    "from scipy import stats\n",
    "from scipy.stats import norm\n",
    "from scipy.stats import pearsonr"
   ]
  },
  {
   "cell_type": "code",
   "execution_count": 22,
   "metadata": {},
   "outputs": [],
   "source": [
    "df = pd.read_csv(\"../data/FinalData.csv\",usecols=['date', 'open', 'high', 'low', 'close', 'Volume BTC','Volume USD'])"
   ]
  },
  {
   "cell_type": "code",
   "execution_count": 23,
   "metadata": {},
   "outputs": [
    {
     "data": {
      "text/html": [
       "<div>\n",
       "<style scoped>\n",
       "    .dataframe tbody tr th:only-of-type {\n",
       "        vertical-align: middle;\n",
       "    }\n",
       "\n",
       "    .dataframe tbody tr th {\n",
       "        vertical-align: top;\n",
       "    }\n",
       "\n",
       "    .dataframe thead th {\n",
       "        text-align: right;\n",
       "    }\n",
       "</style>\n",
       "<table border=\"1\" class=\"dataframe\">\n",
       "  <thead>\n",
       "    <tr style=\"text-align: right;\">\n",
       "      <th></th>\n",
       "      <th>date</th>\n",
       "      <th>open</th>\n",
       "      <th>high</th>\n",
       "      <th>low</th>\n",
       "      <th>close</th>\n",
       "      <th>Volume BTC</th>\n",
       "      <th>Volume USD</th>\n",
       "    </tr>\n",
       "  </thead>\n",
       "  <tbody>\n",
       "    <tr>\n",
       "      <th>0</th>\n",
       "      <td>2024-06-01 23:00:00</td>\n",
       "      <td>67727.03</td>\n",
       "      <td>67776.13</td>\n",
       "      <td>67678.00</td>\n",
       "      <td>67707.13</td>\n",
       "      <td>0.946410</td>\n",
       "      <td>64078.701518</td>\n",
       "    </tr>\n",
       "    <tr>\n",
       "      <th>1</th>\n",
       "      <td>2024-06-01 22:00:00</td>\n",
       "      <td>67702.67</td>\n",
       "      <td>67820.00</td>\n",
       "      <td>67666.62</td>\n",
       "      <td>67727.03</td>\n",
       "      <td>2.039246</td>\n",
       "      <td>138112.080438</td>\n",
       "    </tr>\n",
       "    <tr>\n",
       "      <th>2</th>\n",
       "      <td>2024-06-01 21:00:00</td>\n",
       "      <td>67747.62</td>\n",
       "      <td>67765.00</td>\n",
       "      <td>67663.23</td>\n",
       "      <td>67702.67</td>\n",
       "      <td>2.305510</td>\n",
       "      <td>156089.178650</td>\n",
       "    </tr>\n",
       "    <tr>\n",
       "      <th>3</th>\n",
       "      <td>2024-06-01 20:00:00</td>\n",
       "      <td>67708.99</td>\n",
       "      <td>67747.62</td>\n",
       "      <td>67637.30</td>\n",
       "      <td>67747.62</td>\n",
       "      <td>3.178401</td>\n",
       "      <td>215329.131610</td>\n",
       "    </tr>\n",
       "    <tr>\n",
       "      <th>4</th>\n",
       "      <td>2024-06-01 19:00:00</td>\n",
       "      <td>67689.17</td>\n",
       "      <td>67734.50</td>\n",
       "      <td>67630.86</td>\n",
       "      <td>67708.99</td>\n",
       "      <td>4.422047</td>\n",
       "      <td>299412.326623</td>\n",
       "    </tr>\n",
       "  </tbody>\n",
       "</table>\n",
       "</div>"
      ],
      "text/plain": [
       "                  date      open      high       low     close  Volume BTC  \\\n",
       "0  2024-06-01 23:00:00  67727.03  67776.13  67678.00  67707.13    0.946410   \n",
       "1  2024-06-01 22:00:00  67702.67  67820.00  67666.62  67727.03    2.039246   \n",
       "2  2024-06-01 21:00:00  67747.62  67765.00  67663.23  67702.67    2.305510   \n",
       "3  2024-06-01 20:00:00  67708.99  67747.62  67637.30  67747.62    3.178401   \n",
       "4  2024-06-01 19:00:00  67689.17  67734.50  67630.86  67708.99    4.422047   \n",
       "\n",
       "      Volume USD  \n",
       "0   64078.701518  \n",
       "1  138112.080438  \n",
       "2  156089.178650  \n",
       "3  215329.131610  \n",
       "4  299412.326623  "
      ]
     },
     "execution_count": 23,
     "metadata": {},
     "output_type": "execute_result"
    }
   ],
   "source": [
    "df.head()"
   ]
  },
  {
   "cell_type": "code",
   "execution_count": 29,
   "metadata": {},
   "outputs": [
    {
     "name": "stdout",
     "output_type": "stream",
     "text": [
      "<class 'pandas.core.frame.DataFrame'>\n",
      "RangeIndex: 75823 entries, 0 to 75822\n",
      "Data columns (total 7 columns):\n",
      " #   Column      Non-Null Count  Dtype         \n",
      "---  ------      --------------  -----         \n",
      " 0   date        75823 non-null  datetime64[ns]\n",
      " 1   open        75823 non-null  float64       \n",
      " 2   high        75823 non-null  float64       \n",
      " 3   low         75823 non-null  float64       \n",
      " 4   close       75823 non-null  float64       \n",
      " 5   Volume BTC  75823 non-null  float64       \n",
      " 6   Volume USD  75823 non-null  float64       \n",
      "dtypes: datetime64[ns](1), float64(6)\n",
      "memory usage: 4.0 MB\n"
     ]
    }
   ],
   "source": [
    "df.info()"
   ]
  },
  {
   "cell_type": "code",
   "execution_count": 25,
   "metadata": {},
   "outputs": [],
   "source": [
    "df['date'] = pd.to_datetime(df['date'])"
   ]
  },
  {
   "cell_type": "code",
   "execution_count": 33,
   "metadata": {},
   "outputs": [
    {
     "data": {
      "text/html": [
       "<div>\n",
       "<style scoped>\n",
       "    .dataframe tbody tr th:only-of-type {\n",
       "        vertical-align: middle;\n",
       "    }\n",
       "\n",
       "    .dataframe tbody tr th {\n",
       "        vertical-align: top;\n",
       "    }\n",
       "\n",
       "    .dataframe thead th {\n",
       "        text-align: right;\n",
       "    }\n",
       "</style>\n",
       "<table border=\"1\" class=\"dataframe\">\n",
       "  <thead>\n",
       "    <tr style=\"text-align: right;\">\n",
       "      <th></th>\n",
       "      <th>date</th>\n",
       "      <th>open</th>\n",
       "      <th>high</th>\n",
       "      <th>low</th>\n",
       "      <th>close</th>\n",
       "      <th>Volume BTC</th>\n",
       "      <th>Volume USD</th>\n",
       "    </tr>\n",
       "  </thead>\n",
       "  <tbody>\n",
       "    <tr>\n",
       "      <th>count</th>\n",
       "      <td>75823</td>\n",
       "      <td>75823.000000</td>\n",
       "      <td>75823.000000</td>\n",
       "      <td>75823.000000</td>\n",
       "      <td>75823.000000</td>\n",
       "      <td>75823.000000</td>\n",
       "      <td>7.582300e+04</td>\n",
       "    </tr>\n",
       "    <tr>\n",
       "      <th>mean</th>\n",
       "      <td>2020-02-04 06:33:57.798557184</td>\n",
       "      <td>18424.585797</td>\n",
       "      <td>18511.338272</td>\n",
       "      <td>18332.666545</td>\n",
       "      <td>18425.474899</td>\n",
       "      <td>110.322647</td>\n",
       "      <td>1.354244e+06</td>\n",
       "    </tr>\n",
       "    <tr>\n",
       "      <th>min</th>\n",
       "      <td>2015-10-08 14:00:00</td>\n",
       "      <td>243.600000</td>\n",
       "      <td>243.600000</td>\n",
       "      <td>236.000000</td>\n",
       "      <td>243.600000</td>\n",
       "      <td>0.000000</td>\n",
       "      <td>0.000000e+00</td>\n",
       "    </tr>\n",
       "    <tr>\n",
       "      <th>25%</th>\n",
       "      <td>2017-12-06 09:30:00</td>\n",
       "      <td>3964.700000</td>\n",
       "      <td>3975.355000</td>\n",
       "      <td>3945.200000</td>\n",
       "      <td>3964.775000</td>\n",
       "      <td>13.688283</td>\n",
       "      <td>1.084489e+05</td>\n",
       "    </tr>\n",
       "    <tr>\n",
       "      <th>50%</th>\n",
       "      <td>2020-02-04 08:00:00</td>\n",
       "      <td>9872.990000</td>\n",
       "      <td>9925.000000</td>\n",
       "      <td>9812.000000</td>\n",
       "      <td>9873.940000</td>\n",
       "      <td>41.435497</td>\n",
       "      <td>4.674784e+05</td>\n",
       "    </tr>\n",
       "    <tr>\n",
       "      <th>75%</th>\n",
       "      <td>2022-04-04 03:30:00</td>\n",
       "      <td>29404.010000</td>\n",
       "      <td>29476.705000</td>\n",
       "      <td>29349.575000</td>\n",
       "      <td>29404.080000</td>\n",
       "      <td>111.064901</td>\n",
       "      <td>1.452794e+06</td>\n",
       "    </tr>\n",
       "    <tr>\n",
       "      <th>max</th>\n",
       "      <td>2024-06-01 23:00:00</td>\n",
       "      <td>73612.770000</td>\n",
       "      <td>73797.680000</td>\n",
       "      <td>73260.340000</td>\n",
       "      <td>73612.770000</td>\n",
       "      <td>8526.751048</td>\n",
       "      <td>1.039629e+08</td>\n",
       "    </tr>\n",
       "    <tr>\n",
       "      <th>std</th>\n",
       "      <td>NaN</td>\n",
       "      <td>18426.995781</td>\n",
       "      <td>18513.486340</td>\n",
       "      <td>18334.842026</td>\n",
       "      <td>18427.746991</td>\n",
       "      <td>233.273802</td>\n",
       "      <td>2.803469e+06</td>\n",
       "    </tr>\n",
       "  </tbody>\n",
       "</table>\n",
       "</div>"
      ],
      "text/plain": [
       "                                date          open          high  \\\n",
       "count                          75823  75823.000000  75823.000000   \n",
       "mean   2020-02-04 06:33:57.798557184  18424.585797  18511.338272   \n",
       "min              2015-10-08 14:00:00    243.600000    243.600000   \n",
       "25%              2017-12-06 09:30:00   3964.700000   3975.355000   \n",
       "50%              2020-02-04 08:00:00   9872.990000   9925.000000   \n",
       "75%              2022-04-04 03:30:00  29404.010000  29476.705000   \n",
       "max              2024-06-01 23:00:00  73612.770000  73797.680000   \n",
       "std                              NaN  18426.995781  18513.486340   \n",
       "\n",
       "                low         close    Volume BTC    Volume USD  \n",
       "count  75823.000000  75823.000000  75823.000000  7.582300e+04  \n",
       "mean   18332.666545  18425.474899    110.322647  1.354244e+06  \n",
       "min      236.000000    243.600000      0.000000  0.000000e+00  \n",
       "25%     3945.200000   3964.775000     13.688283  1.084489e+05  \n",
       "50%     9812.000000   9873.940000     41.435497  4.674784e+05  \n",
       "75%    29349.575000  29404.080000    111.064901  1.452794e+06  \n",
       "max    73260.340000  73612.770000   8526.751048  1.039629e+08  \n",
       "std    18334.842026  18427.746991    233.273802  2.803469e+06  "
      ]
     },
     "execution_count": 33,
     "metadata": {},
     "output_type": "execute_result"
    }
   ],
   "source": [
    "df.describe()"
   ]
  },
  {
   "cell_type": "code",
   "execution_count": 32,
   "metadata": {},
   "outputs": [
    {
     "data": {
      "image/png": "[encoded data removed]",
      "text/plain": [
       "<Figure size 640x480 with 2 Axes>"
      ]
     },
     "metadata": {},
     "output_type": "display_data"
    }
   ],
   "source": [
    "plt.figure()\n",
    "sns.heatmap(df.corr(numeric_only=True), cmap=\"coolwarm\", vmax=1.0, vmin=-1.0)\n",
    "plt.show()"
   ]
  }
 ],
 "metadata": {
  "kernelspec": {
   "display_name": "base",
   "language": "python",
   "name": "python3"
  },
  "language_info": {
   "codemirror_mode": {
    "name": "ipython",
    "version": 3
   },
   "file_extension": ".py",
   "mimetype": "text/x-python",
   "name": "python",
   "nbconvert_exporter": "python",
   "pygments_lexer": "ipython3",
   "version": "3.11.7"
  },
  "orig_nbformat": 4
 },
 "nbformat": 4,
 "nbformat_minor": 2
}
